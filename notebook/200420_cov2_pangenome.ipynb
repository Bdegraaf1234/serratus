{
 "cells": [
  {
   "cell_type": "markdown",
   "metadata": {},
   "source": [
    "## cov2r: pan-coronavirus genome\n",
    "```\n",
    "Lead     : ababaian\n",
    "Issue    : #41\n",
    "start    : 2020 41 08\n",
    "complete : 2020 04 08\n",
    "files    : s3://serratus-public/seq/cov2r/\n",
    "```\n",
    "\n",
    "## Introduction\n",
    "Initial run of ~9000 vertebrate libraries against `cov1r` yielded a series of reucrrent false-positives matching plasmid DNA. In addition QC work has identified several accession which will be pruned\n",
    "\n",
    "Another major refinement in this version of the pan-genome is to prune highly homologous sequences (99% identity) using `usearch`. Alignment is capable of picking aligning something like 99% of reads at 99% sequence homology so we can reduce the alignment search space with this step.\n",
    "\n",
    "In addition, all poly-NT tracts greater than 10 nucleotides will be masked to \"N\" sequences as these are low information and prone to spurious false-positives \n",
    "\n",
    "### Objectives\n",
    "- Creation of a refined `cov2` pan-genome\n",
    "- Create control reverse control sequences `r`\n",
    "- Generate gt2-index for `cov2r`\n",
    "\n"
   ]
  },
  {
   "cell_type": "markdown",
   "metadata": {},
   "source": [
    "## Materials and Methods\n"
   ]
  },
  {
   "cell_type": "code",
   "execution_count": null,
   "metadata": {},
   "outputs": [],
   "source": [
    "# EC2 Instance Commands:\n",
    "# Build/Run `serratus-align`container for indexing\n",
    "sudo yum install -y docker\n",
    "sudo yum install -y git\n",
    "sudo service docker start\n",
    "\n",
    "git clone https://github.com/ababaian/serratus.git; cd serratus\n",
    "sudo docker build -t serratus-base:0 -t serratus-base:latest -f docker/Dockerfile .\n",
    "sudo docker build -t serratus-align:0 -t serratus-align:latest -f docker/serratus-align/Dockerfile .\n",
    "\n",
    "sudo docker run --rm --entrypoint /bin/bash -it serratus-align:0\n"
   ]
  },
  {
   "cell_type": "code",
   "execution_count": null,
   "metadata": {},
   "outputs": [],
   "source": [
    "# local bedtools install\n",
    "wget https://github.com/arq5x/bedtools2/releases/download/v2.29.2/bedtools.static.binary\n",
    "mv bedtools.static.binary bedtools\n",
    "chmod 755 bedtools; mv bedtools /usr/bin/"
   ]
  },
  {
   "cell_type": "code",
   "execution_count": null,
   "metadata": {},
   "outputs": [],
   "source": [
    "# Local usearch install\n",
    "#The clustered database was made with usearch:\n",
    "wget https://drive5.com/downloads/usearch11.0.667_i86linux32.gz\n",
    "gzip -dc usearch11.0.667_i86linux32.gz > usearch\n",
    "chmod 755 usearch; mv usearch /usr/bin/usearch\n"
   ]
  },
  {
   "cell_type": "code",
   "execution_count": null,
   "metadata": {},
   "outputs": [],
   "source": [
    "# bash inside `serratus-align`\n",
    "mkdir cov2; cd cov2\n",
    "\n",
    "# Start from cov0 sequence, all NCBI entries for CoV\n",
    "aws s3 cp s3://serratus-public/seq/cov0/cov0.fa ./\n",
    "\n",
    "# Create a header file to store original cov0 headers\n",
    "grep \"^>\" cov0.fa > cov.full.headers\n",
    "gzip cov.full.headers\n"
   ]
  },
  {
   "cell_type": "code",
   "execution_count": null,
   "metadata": {},
   "outputs": [],
   "source": [
    "# Remove duplicate and short sequences\n",
    "# 8429 duplicates removed\n",
    "seqkit rmdup -s -i -D cov0.duplicates cov0.fa > cov0.rmdup.fa\n",
    "\n",
    "# Remove Accessions shorter than 200 nt\n",
    "seqkit seq -m 200 cov0.rmdup.fa > cov0.gt200.rmdup.fa"
   ]
  },
  {
   "cell_type": "code",
   "execution_count": null,
   "metadata": {},
   "outputs": [],
   "source": [
    "# Prune 99% identity sequences\n",
    "# Sort\n",
    "usearch -sortbylength cov0.gt200.rmdup.fa \\\n",
    "   -minseqlength 200 \\\n",
    "   -fastaout cov0.sort.gt200.rmdup.fa\n",
    "\n",
    "# Prune\n",
    "usearch -cluster_smallmem cov0.sort.gt200.rmdup.fa \\\n",
    "   -id 0.99 \\\n",
    "   -maxaccepts 4 \\\n",
    "   -maxrejects 64 \\\n",
    "   -maxhits 1 \\\n",
    "   -uc cov0.id99.uc \\\n",
    "   -centroids cov0.id99.fa"
   ]
  },
  {
   "cell_type": "markdown",
   "metadata": {},
   "source": [
    "```\n",
    "02:46:42 210Mb   100.0% 7850 clusters, max size 402, avg 3.0\n",
    "02:46:42 210Mb   100.0% Writing centroids to cov0.id99.fa   \n",
    "                                                         \n",
    "      Seqs  23759 (23.8k)\n",
    "  Clusters  7850\n",
    "  Max size  402\n",
    "  Avg size  3.0\n",
    "  Min size  1\n",
    "Singletons  5325, 22.4% of seqs, 67.8% of clusters\n",
    "   Max mem  683Mb\n",
    "      Time  02:46:42\n",
    "Throughput  2.4 seqs/sec.\n",
    "```"
   ]
  },
  {
   "cell_type": "code",
   "execution_count": null,
   "metadata": {},
   "outputs": [],
   "source": [
    "# Remove Accessions on blacklist\n",
    "# Strips headers to accessions only\n",
    "seqkit grep cov0.id99.fa -i -r -v \\\n",
    "  -p KC786228 -p AX191447 -p AX191449 \\\n",
    "  -p FB764528 -p HV449436 -p CS382036 \\\n",
    "  > cov0.id99.bl.fa"
   ]
  },
  {
   "cell_type": "code",
   "execution_count": null,
   "metadata": {},
   "outputs": [],
   "source": [
    "# Create polyNT masks (10-X seed)\n",
    "seqkit locate --bed -i -m 0 -p 'AAAAAAAAAA' cov0.id99.bl.fa > poly10.bed\n",
    "  bedtools sort -chrThenSizeA -i poly10.bed > poly10.sort.bed\n",
    "  bedtools merge -s -i poly10.sort.bed > polyAT.mask.bed\n",
    "\n",
    "seqkit locate --bed -i -m 0 -p 'GGGGGGGGGG' cov0.id99.bl.fa > poly10.bed\n",
    "  bedtools sort -chrThenSizeA -i poly10.bed > poly10.sort.bed\n",
    "  bedtools merge -s -i poly10.sort.bed > polyGC.mask.bed\n",
    "\n",
    "cat polyAT.mask.bed polyGC.mask.bed > \\\n",
    "  polyNT.bed\n",
    "\n",
    "rm polyAT.mask.bed polyGC.mask.bed poly10.bed poly10.sort.bed"
   ]
  },
  {
   "cell_type": "code",
   "execution_count": null,
   "metadata": {},
   "outputs": [],
   "source": [
    "# Manually set blacklisted regions\n",
    "echo -e \"JB181528.1\\t3111\\t3307\" >> blacklist.bed\n",
    "echo -e \"CS460762.1\\t37177\\t37211\" >> blacklist.bed\n",
    "echo -e \"CS460762.1\\t30166\\t30243\" >> blacklist.bed\n",
    "echo -e \"CS480537.1\\t37170\\t37220\" >> blacklist.bed\n",
    "echo -e \"CS480537.1\\t30166\\t30241\" >> blacklist.bed\n",
    "echo -e \"MK562374.1\\t474\\t542\" >> blacklist.bed\n",
    "echo -e \"DL231478.1\\t43\\t2296\" >> blacklist.bed\n",
    "\n",
    "cat polyNT.bed blacklist.bed > mask.regions.bed\n",
    "\n",
    "rm polyNT.bed blacklist.bed"
   ]
  },
  {
   "cell_type": "code",
   "execution_count": null,
   "metadata": {},
   "outputs": [],
   "source": [
    "# cov2 pan-genome\n",
    "\n",
    "# Soft-masked pan-genome\n",
    "bedtools maskfasta -fi cov0.id99.bl.fa \\\n",
    "  -bed mask.regions.bed -fo cov2.fa -soft\n",
    " \n",
    "# Hard-masked pan-genome\n",
    "bedtools maskfasta -fi cov0.id99.fa \\\n",
    "  -bed mask.regions.bed -fo cov2.masked.fa -mc N\n"
   ]
  },
  {
   "cell_type": "code",
   "execution_count": null,
   "metadata": {},
   "outputs": [],
   "source": [
    "# Create reverse control sequences\n",
    "seqkit seq -r cov2.masked.fa |\\\n",
    "  sed 's/>/>REVERSE_/g' - > rev.tmp\n",
    "  cat cov2.masked.fa rev.tmp > cov2r.fa\n",
    "\n",
    "rm rev.tmp"
   ]
  },
  {
   "cell_type": "code",
   "execution_count": null,
   "metadata": {},
   "outputs": [],
   "source": [
    "# Count the number of accessions in each step of the processing\n",
    "for FA in $(ls *.fa)\n",
    "do\n",
    "  samtools faidx $FA\n",
    "  echo $(wc -l \"$FA\".fai)\n",
    "done\n",
    "\n",
    "rm *.fai"
   ]
  },
  {
   "cell_type": "markdown",
   "metadata": {},
   "source": [
    "```\n",
    "33296 cov0.fa.fai\n",
    "24865 cov0.rmdup.fa.fai\n",
    "23759 cov0.gt200.rmdup.fa.fai\n",
    "23759 cov0.sort.gt200.rmdup.fa.fai\n",
    "7846 cov0.id99.bl.fa.fai\n",
    "7850 cov0.id99.fa.fai\n",
    "7846 cov2.fa.fai\n",
    "7850 cov2.masked.fa.fai\n",
    "15700 cov2r.fa.fai\n",
    "```"
   ]
  },
  {
   "cell_type": "code",
   "execution_count": null,
   "metadata": {},
   "outputs": [],
   "source": [
    "# Remove intermediates\n",
    "rm cov0.fa cov0.rmdup.fa \\\n",
    "  cov0.gt200.rmdup.fa cov0.sort.gt200.rmdup.fa \\\n",
    "  cov0.id99.bl.fa\n",
    "\n",
    "# gzip usearch output for re-use\n",
    "gzip cov0.id99.fa cov0.duplicates\n",
    "\n",
    "# gzip non final fasta files\n",
    "gzip cov2.fa cov2.masked.fa\n",
    "gzip polyA.mask.bed"
   ]
  },
  {
   "cell_type": "code",
   "execution_count": null,
   "metadata": {},
   "outputs": [],
   "source": [
    "# Build bowtie2 + faidx index for cov1r.fa\n",
    "bowtie2-build --threads 4 --seed 666 cov2r.fa cov2r\n",
    "samtools faidx cov2r.fa"
   ]
  },
  {
   "cell_type": "markdown",
   "metadata": {},
   "source": [
    "```\n",
    "bash-4.2# ls -alh\n",
    "total 180M\n",
    "drwxr-xr-x 2 root     root     4.0K Apr 21 21:43 .\n",
    "drwx------ 1 serratus serratus   18 Apr 21 17:07 ..\n",
    "-rw-r--r-- 1 root     root     322K Apr 21 17:07 cov.full.headers.gz\n",
    "-rw-r--r-- 1 root     root      39K Apr 21 17:09 cov0.duplicates.gz\n",
    "-rw-r--r-- 1 root     root     8.1M Apr 21 19:57 cov0.id99.fa.gz\n",
    "-rw-r--r-- 1 root     root     5.4M Apr 21 19:57 cov0.id99.uc\n",
    "-rw-r--r-- 1 root     root     8.0M Apr 21 21:37 cov2.fa.gz\n",
    "-rw-r--r-- 1 root     root     7.9M Apr 21 21:37 cov2.masked.fa.gz\n",
    "-rw-r--r-- 1 root     root      24M Apr 21 21:42 cov2r.1.bt2\n",
    "-rw-r--r-- 1 root     root      15M Apr 21 21:42 cov2r.2.bt2\n",
    "-rw-r--r-- 1 root     root     182K Apr 21 21:42 cov2r.3.bt2\n",
    "-rw-r--r-- 1 root     root      15M Apr 21 21:42 cov2r.4.bt2\n",
    "-rw-r--r-- 1 root     root      59M Apr 21 21:37 cov2r.fa\n",
    "-rw-r--r-- 1 root     root     529K Apr 21 21:43 cov2r.fa.fai\n",
    "-rw-r--r-- 1 root     root      24M Apr 21 21:43 cov2r.rev.1.bt2\n",
    "-rw-r--r-- 1 root     root      15M Apr 21 21:43 cov2r.rev.2.bt2\n",
    "-rw-r--r-- 1 root     root      11K Apr 21 21:36 mask.regions.bed\n",
    "```"
   ]
  },
  {
   "cell_type": "code",
   "execution_count": null,
   "metadata": {},
   "outputs": [],
   "source": [
    "# Upload to s3 public access area\n",
    "aws s3 sync ./ s3://serratus-public/seq/cov2r/"
   ]
  },
  {
   "cell_type": "markdown",
   "metadata": {},
   "source": [
    "## Results & Discussion\n",
    "\n",
    "The `cov2r` pan-genome and it's respective `bowtie2` index is prepared.\n",
    "\n",
    "Note, seqkit destroys the original headers so now each 'chromosome' or input sequence is referred to by it's accession ID only. As a remedy the `cov.full.headers.gz` text file is available.\n",
    "\n",
    "#### Downloading cov2 sequences\n",
    "\n",
    "`aws s3 cp --recursive s3://serratus-public/seq/cov2r/ ./`\n",
    "\n"
   ]
  }
 ],
 "metadata": {
  "kernelspec": {
   "display_name": "Bash",
   "language": "bash",
   "name": "bash"
  },
  "language_info": {
   "codemirror_mode": "shell",
   "file_extension": ".sh",
   "mimetype": "text/x-sh",
   "name": "bash"
  }
 },
 "nbformat": 4,
 "nbformat_minor": 1
}
