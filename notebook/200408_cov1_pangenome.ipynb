{
 "cells": [
  {
   "cell_type": "markdown",
   "metadata": {},
   "source": [
    "# cov1r: pan-coronavirus genome\n",
    "```\n",
    "Lead     : ababaian\n",
    "Issue    : n/a\n",
    "start    : 2020 04 08\n",
    "complete : 2020 04 08\n",
    "files    : s3://serratus-public/seq/cov1r/\n",
    "```\n",
    "\n",
    "## Introduction\n",
    "Initial quality control checks on `cov0` (see: 200407_cov0_test_align) yielded three accessions that are non-CoV sequences and should be removed: `KC786228.1`, `AX191447.1` and `AX191449.1`.\n",
    "\n",
    "In addition, all poly-A tracts greater than 15 nucleotides will be masked to \"N\" sequences\n",
    "\n",
    "### Objectives\n",
    "- Creation of a refined `cov1` pan-genome\n",
    "- Create control reverse sequences and bt2-index for `cov1r`\n",
    "\n",
    "### Addendum\n",
    "- On `200411` added `rmdup` function to `cov1r`.\n"
   ]
  },
  {
   "cell_type": "markdown",
   "metadata": {},
   "source": [
    "## Materials and Methods\n"
   ]
  },
  {
   "cell_type": "code",
   "execution_count": null,
   "metadata": {},
   "outputs": [],
   "source": [
    "# EC2 Instance Commands:\n",
    "# Build/Run `serratus-align`container for indexing\n",
    "sudo yum install -y docker\n",
    "sudo yum install -y git\n",
    "sudo service docker start\n",
    "\n",
    "git clone https://github.com/ababaian/serratus.git; cd serratus\n",
    "sudo docker build -t serratus-base:0 -t serratus-base:latest -f docker/Dockerfile .\n",
    "sudo docker build -t serratus-align:0 -t serratus-align:latest -f docker/serratus-align/Dockerfile .\n",
    "\n",
    "sudo docker run --rm --entrypoint /bin/bash -it serratus-align:0\n"
   ]
  },
  {
   "cell_type": "code",
   "execution_count": null,
   "metadata": {},
   "outputs": [],
   "source": [
    "# local bedtools install\n",
    "wget https://github.com/arq5x/bedtools2/releases/download/v2.29.2/bedtools.static.binary\n",
    "mv bedtools.static.binary bedtools\n",
    "chmod 755 bedtools"
   ]
  },
  {
   "cell_type": "code",
   "execution_count": null,
   "metadata": {},
   "outputs": [],
   "source": [
    "# bash inside `serratus-align`\n",
    "mkdir cov1; cd cov1\n",
    "aws s3 cp s3://serratus-public/seq/cov0/cov0.fa ./\n",
    "\n",
    "# Create a header file to store original cov0 headers\n",
    "grep \"^>\" cov0.fa > cov.full.headers\n",
    "gzip cov.full.headers\n",
    "\n",
    "# Remove Accessions on blacklist\n",
    "# `KC786228.1`, `AX191447.1` and `AX191449.1`.\n",
    "seqkit grep cov0.fa -r -v \\\n",
    "  -p KC786228 -p AX191447 -p AX191449 \\\n",
    "  > cov0.del.fa\n",
    "  \n",
    "# Remove duplicate sequences\n",
    "seqkit rmdup -s -i -D cov0.dup cov0.del.fa > cov0.rmdup.del.fa\n",
    "\n",
    "# Create polyA Mask (10-A seed)\n",
    "seqkit locate --bed -i -m 0 -p 'AAAAAAAAAA' cov0.del.fa > polyA.10.bed\n",
    "./bedtools sort -chrThenSizeA -i polyA.10.bed > polyA.sort.bed\n",
    "./bedtools merge -s -i polyA.sort.bed > polyA.mask.bed\n",
    "\n",
    "# Soft-masked pan-genome\n",
    "./bedtools maskfasta -fi cov0.del.fa -bed polyA.mask.bed -fo cov1.fa -soft\n",
    " \n",
    "# Hard-masked pan-genome\n",
    "./bedtools maskfasta -fi cov0.del.fa -bed polyA.mask.bed -fo cov1.pA.masked.fa -mc N\n",
    "\n",
    "# Clean-up cov0 and intermediates\n",
    "rm polyA.sort.bed polyA.10.bed\n",
    "rm cov0.fa cov0.del.fa cov0.rmdup.del.fa"
   ]
  },
  {
   "cell_type": "code",
   "execution_count": null,
   "metadata": {},
   "outputs": [],
   "source": [
    "# Create reverse control sequences\n",
    "seqkit seq -r cov1.pA.masked.fa |\\\n",
    "  sed 's/>/>REVERSE_/g' - > rev.tmp\n",
    "  cat cov1.pA.masked.fa rev.tmp > cov1r.fa\n",
    "\n",
    "rm rev.tmp\n",
    "\n",
    "# gzip all non final fasta files\n",
    "gzip cov1.fa\n",
    "gzip cov1.pA.masked.fa\n",
    "gzip polyA.mask.bed\n",
    "\n",
    "# Final clean-up\n",
    "rm bedtools"
   ]
  },
  {
   "cell_type": "code",
   "execution_count": null,
   "metadata": {},
   "outputs": [],
   "source": [
    "# Build bowtie2 + faidx index for cov1r.fa\n",
    "bowtie2-build --threads 2 --seed 666 cov1r.fa cov1r\n",
    "samtools faidx cov1r.fa"
   ]
  },
  {
   "cell_type": "markdown",
   "metadata": {},
   "source": [
    "```\n",
    "bash-4.2# ls -alh\n",
    "total 678M\n",
    "drwxr-xr-x 2 root     root     4.0K Apr 13 20:12 .\n",
    "drwx------ 1 serratus serratus 4.0K Apr 13 19:26 ..\n",
    "-rw-r--r-- 1 root     root     322K Apr 13 19:25 cov.full.headers.gz\n",
    "-rw-r--r-- 1 root     root     138K Apr 13 19:25 cov0.dup\n",
    "-rw-r--r-- 1 root     root      22M Apr 13 19:25 cov1.fa.gz\n",
    "-rw-r--r-- 1 root     root      22M Apr 13 19:25 cov1.pA.masked.fa.gz\n",
    "-rw-r--r-- 1 root     root      91M Apr 13 19:44 cov1r.1.bt2\n",
    "-rw-r--r-- 1 root     root      64M Apr 13 19:44 cov1r.2.bt2\n",
    "-rw-r--r-- 1 root     root     706K Apr 13 19:26 cov1r.3.bt2\n",
    "-rw-r--r-- 1 root     root      64M Apr 13 19:26 cov1r.4.bt2\n",
    "-rw-r--r-- 1 root     root     260M Apr 13 19:26 cov1r.fa\n",
    "-rw-r--r-- 1 root     root     2.3M Apr 13 20:11 cov1r.fa.fai\n",
    "-rw-r--r-- 1 root     root      91M Apr 13 20:03 cov1r.rev.1.bt2\n",
    "-rw-r--r-- 1 root     root      64M Apr 13 20:03 cov1r.rev.2.bt2\n",
    "-rw-r--r-- 1 root     root     8.6K Apr 13 19:25 polyA.mask.bed.gz\n",
    "\n",
    "```"
   ]
  },
  {
   "cell_type": "code",
   "execution_count": null,
   "metadata": {},
   "outputs": [],
   "source": [
    "# Upload to s3 public access area\n",
    "aws s3 sync ./ s3://serratus-public/seq/cov1r/"
   ]
  },
  {
   "cell_type": "markdown",
   "metadata": {},
   "source": [
    "## Results & Discussion\n",
    "\n",
    "The `cov1r` pan-genome and it's respective `bowtie2` index is prepared. This should give us a higher specificity of reads aligning from non-viral sources.\n",
    "\n",
    "Note, seqkit destroys the original headers so now each 'chromosome' or input sequence is referred to by it's accession ID only. As a remedy the `cov.full.headers.gz` text file is available.\n",
    "\n",
    "#### Fetch cov1 sequences\n",
    "\n",
    "`aws s3 cp --recursive s3://serratus-public/seq/cov1r/ ./`\n",
    "\n"
   ]
  }
 ],
 "metadata": {
  "kernelspec": {
   "display_name": "Bash",
   "language": "bash",
   "name": "bash"
  },
  "language_info": {
   "codemirror_mode": "shell",
   "file_extension": ".sh",
   "mimetype": "text/x-sh",
   "name": "bash"
  }
 },
 "nbformat": 4,
 "nbformat_minor": 1
}
