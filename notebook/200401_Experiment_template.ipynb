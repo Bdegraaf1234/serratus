{
 "cells": [
  {
   "cell_type": "markdown",
   "metadata": {},
   "source": [
    "# Experiment Title\n",
    "```\n",
    "Lead     : <Your Name / github ID>\n",
    "Issue    : <github issue #>\n",
    "start    : YYYY MM DD\n",
    "complete : YYYY MM DD\n",
    "files    : ~/serratus/notebook/YYMMDD/\n",
    "s3 files : s3://serratus-public/notebook/YYMMDD/\n",
    "```\n",
    "\n",
    "## Introduction\n",
    "< Describe the problem in a few sentences >\n",
    "\n",
    "### Objectives\n",
    "< What are the objectives / deliverable items from this experiment >"
   ]
  },
  {
   "cell_type": "markdown",
   "metadata": {},
   "source": [
    "## Materials and Methods\n"
   ]
  },
  {
   "cell_type": "markdown",
   "metadata": {},
   "source": [
    "### System Initialization\n",
    "Document in code the install instructions for all the software you are using. If you're working from your local system include versions commands for the software i.e."
   ]
  },
  {
   "cell_type": "code",
   "execution_count": 2,
   "metadata": {},
   "outputs": [
    {
     "name": "stdout",
     "output_type": "stream",
     "text": [
      "/usr/bin/bowtie2-align-s version 2.3.4.1\r\n",
      "64-bit\r\n"
     ]
    }
   ],
   "source": [
    "bowtie2 --version"
   ]
  },
  {
   "cell_type": "markdown",
   "metadata": {},
   "source": [
    "### Data Initialization\n",
    "For any data, document where and when you acquired it"
   ]
  },
  {
   "cell_type": "code",
   "execution_count": null,
   "metadata": {},
   "outputs": [],
   "source": [
    "# Accessed: 200401\n",
    "aws s3 cp s3://serratus-public/seq/cov0/cov0.fa ./"
   ]
  },
  {
   "cell_type": "markdown",
   "metadata": {},
   "source": [
    "## Results & Discussion\n"
   ]
  }
 ],
 "metadata": {
  "kernelspec": {
   "display_name": "Bash",
   "language": "bash",
   "name": "bash"
  },
  "language_info": {
   "codemirror_mode": "shell",
   "file_extension": ".sh",
   "mimetype": "text/x-sh",
   "name": "bash"
  }
 },
 "nbformat": 4,
 "nbformat_minor": 1
}
