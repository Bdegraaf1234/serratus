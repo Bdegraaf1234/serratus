{
 "cells": [
  {
   "cell_type": "markdown",
   "metadata": {},
   "source": [
    "# Experiment Title\n",
    "```\n",
    "Lead     : <Your Name / github ID>\n",
    "Issue    : <github issue #>\n",
    "start    : YYYY MM DD\n",
    "complete : YYYY MM DD\n",
    "files    : ~/serratus/..\n",
    "```\n",
    "\n",
    "## Introduction\n",
    "< Describe the problem in a few sentences >\n",
    "\n",
    "### Objectives\n",
    "< What are the objectives / deliverable items from this experiment >"
   ]
  },
  {
   "cell_type": "markdown",
   "metadata": {},
   "source": [
    "## Materials and Methods\n"
   ]
  },
  {
   "cell_type": "markdown",
   "metadata": {},
   "source": [
    "## Results & Discussion\n"
   ]
  }
 ],
 "metadata": {
  "kernelspec": {
   "display_name": "Bash",
   "language": "bash",
   "name": "bash"
  },
  "language_info": {
   "codemirror_mode": "shell",
   "file_extension": ".sh",
   "mimetype": "text/x-sh",
   "name": "bash"
  }
 },
 "nbformat": 4,
 "nbformat_minor": 1
}
