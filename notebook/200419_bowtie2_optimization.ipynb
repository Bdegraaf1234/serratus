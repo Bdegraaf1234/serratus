{
 "cells": [
  {
   "cell_type": "markdown",
   "metadata": {},
   "source": [
    "# Bowtie2 Optimization\n",
    "```\n",
    "Lead     : Charles\n",
    "Issue    : #35 - Hard Optimize `bowtie2` alignment parameters\n",
    "Start    : 2020 04 19\n",
    "Complete : YYYY MM DD\n",
    "Files    : ~/serratus/notebook/200419\n",
    "```\n",
    "\n",
    "## Introduction\n",
    "We are currently running `bowtie2 --very-sensitive-local ...` for detecting homologous CoV sequences. We need a method (script) to test an array of `bowtie2` parameters for time, sensitivity and specificity of alignment.\n",
    "\n",
    "Current settings are `-D 20 -R 3 -N 0 -L 20 -i S,1,0.50`, say we'd like to test the space of `-D 5-25 -R 1-4 -N 0-1 -L 30-15`.\n",
    "### Objectives\n",
    "Determine optimal `bowtie2` alignment parameters by outputting the following:\n",
    "\n",
    "1) Wall-clock / CPU time / User time for each setting.\n",
    "2) TP / FP / TN / FN\n",
    "\n"
   ]
  },
  {
   "cell_type": "markdown",
   "metadata": {},
   "source": [
    "## Materials and Methods\n",
    "\n",
    "- [bowtie2 manual](http://bowtie-bio.sourceforge.net/bowtie2/manual.shtml)\n",
    "\n",
    "Reads from simulated divergent genomes of SARS-CoV-2. Created by mutating the SARS-CoV-2 reference sequence with random subsitutions at different rates (0.1% - 40%).\n",
    "Reads can be accessed via [Amazon S3](s3://serratus-public/notebook/200411/)\n",
    "\n"
   ]
  },
  {
   "cell_type": "markdown",
   "metadata": {},
   "source": [
    "## Results & Discussion\n"
   ]
  }
 ],
 "metadata": {
  "kernelspec": {
   "display_name": "Bash",
   "language": "bash",
   "name": "bash"
  },
  "language_info": {
   "codemirror_mode": "shell",
   "file_extension": ".sh",
   "mimetype": "text/x-sh",
   "name": "bash"
  }
 },
 "nbformat": 4,
 "nbformat_minor": 1
}
