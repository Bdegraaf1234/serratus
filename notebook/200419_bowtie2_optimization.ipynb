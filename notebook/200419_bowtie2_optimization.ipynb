{
 "cells": [
  {
   "cell_type": "markdown",
   "metadata": {},
   "source": [
    "# Bowtie2 Optimization\n",
    "```\n",
    "Lead     : Charles\n",
    "Issue    : #35 - Hard Optimize `bowtie2` alignment parameters\n",
    "Start    : 2020 04 19\n",
    "Complete : YYYY MM DD\n",
    "Files    : ~/serratus/notebook/200419\n",
    "```\n",
    "\n",
    "## Introduction\n",
    "We are currently running `bowtie2 --very-sensitive-local ...` for detecting homologous CoV sequences. We need a method (script) to test an array of `bowtie2` parameters for time, sensitivity and specificity of alignment.\n",
    "\n",
    "Current settings are `-D 20 -R 3 -N 0 -L 20 -i S,1,0.50`, say we'd like to test the space of `-D 5-25 -R 1-4 -N 0-1 -L 30-15`.\n",
    "### Objectives\n",
    "Determine optimal `bowtie2` alignment parameters by outputting the following:\n",
    "\n",
    "1. Wall-clock / CPU time / User time for each setting.\n",
    "2. TP / FP / TN / FN\n",
    "\n"
   ]
  },
  {
   "cell_type": "markdown",
   "metadata": {},
   "source": [
    "## Materials and Methods\n",
    "\n",
    "- [bowtie2 manual](http://bowtie-bio.sourceforge.net/bowtie2/manual.shtml)\n",
    "\n",
    "Reads from simulated divergent genomes of SARS-CoV-2. Created by mutating the SARS-CoV-2 reference sequence with random subsitutions at different rates (0.1% - 40%).\n",
    "\n",
    "Reads can be accessed via Amazon S3: s3://serratus-public/notebook/200411/\n",
    "\n"
   ]
  },
  {
   "cell_type": "code",
   "execution_count": null,
   "metadata": {},
   "outputs": [],
   "source": [
    "# Need to install AWS CLI:\n",
    "# https://docs.aws.amazon.com/cli/latest/userguide/install-cliv2.html\n",
    "curl \"https://awscli.amazonaws.com/awscli-exe-linux-x86_64.zip\" -o \"awscliv2.zip\"\n",
    "unzip awscliv2.zip\n",
    "mkdir aws-install\n",
    "./aws/install -i aws-install\n",
    "\n",
    "# download simulated reads from S3\n",
    "# remember to configure aws with Access Key ID and Secret Access Key first\n",
    "# https://docs.aws.amazon.com/cli/latest/userguide/cli-chap-configure.html#cli-quick-configuration\n",
    "mkdir fq\n",
    "mkdir fa\n",
    "aws s3 cp --recursive s3://serratus-public/notebook/200411/fq/ ./fq\n",
    "aws s3 cp --recursive s3://serratus-public/notebook/200411/fa/ ./fa\n",
    "\n",
    "# Index unmutated sequence\n",
    "gzip -dc fa/index.fa.gz > ./cov.index.fa \n",
    "bowtie2-build cov.index.fa cov.index\n",
    "\n",
    "# Run bowtie2 align for each divergence set and clock runtimes\n",
    "module load bowtie2\n",
    "module load samtools\n",
    "\n",
    "mkdir -p bam\n",
    "mkdir -p runtimes\n",
    "\n",
    "MU=(0 30 300 1500 3000 4500 6000 7500 9000 10500 12000)\n",
    "\n",
    "for mu in ${MU[@]}\n",
    "do\n",
    "    FQ1=fq/sim.cov.\"$mu\"_1.fq.gz\n",
    "    FQ2=fq/sim.cov.\"$mu\"_2.fq.gz\n",
    "    \n",
    "    ( time bowtie2 --very-sensitive-local \\\n",
    "      -x cov.index -1 $FQ1 -2 $FQ2 \\\n",
    "      | samtools view -b -G 12 - ) \\\n",
    "      1> sim.cov.\"$mu\".bam \\\n",
    "      2> \"$mu\".runtime\n",
    "    \n",
    "    mv sim.cov.\"$mu\".bam ./bam/\n",
    "    mv \"$mu\".runtime ./runtimes/\n",
    "    \n",
    "done\n",
    "\n"
   ]
  },
  {
   "cell_type": "code",
   "execution_count": null,
   "metadata": {},
   "outputs": [],
   "source": [
    "# Print out alignment rate for each mutational load\n",
    "cd runtimes\n",
    "\n",
    "MU=(0 30 300 1500 3000 4500 6000 7500 9000 10500 12000)\n",
    "\n",
    "for mu in ${MU[@]}\n",
    "do\n",
    "  echo $mu \\\n",
    "  $(sed -n '15p' \"$mu\".runtime | cut -f1 -d' ' -) \\\n",
    "  $(sed -n '17p' \"$mu\".runtime | cut -f2 -) \\\n",
    "  $(sed -n '18p' \"$mu\".runtime | cut -f2 -) \\\n",
    "  $(sed -n '19p' \"$mu\".runtime | cut -f2 -)\n",
    "done"
   ]
  },
  {
   "cell_type": "markdown",
   "metadata": {},
   "source": [
    "Vary `-D` between `5-25`\n",
    "\n",
    " `-D <int>           give up extending after <int> failed extends in a row (15)`\n",
    "\n",
    "Default for `-D` in `---very-sensitive-local` is `20`\n"
   ]
  },
    {
   "cell_type": "code",
   "execution_count": null,
   "metadata": {},
   "outputs": [],
   "source": [
    "# Run bowtie2 align for each divergence set and clock runtimes\n",
    "module load bowtie2\n",
    "module load samtools\n",
    "\n",
    "D=($echo {5..25})\n",
    "MU=(0 30 300 1500 3000 4500 6000 7500 9000 10500 12000)\n",
    "\n",
    "for d in ${D[@]}\n",
    "do\n",
    "   for mu in ${MU[@]}\n",
    "   do\n",
    "       FQ1=fq/sim.cov.\"$mu\"_1.fq.gz\n",
    "       FQ2=fq/sim.cov.\"$mu\"_2.fq.gz\n",
    "       \n",
    "       ( time bowtie2 --D $d -R 3 -N 0 -L 20 -i S,1,0.50 \\\n",
    "         -x cov.index -1 $FQ1 -2 $FQ2 \\\n",
    "         | samtools view -b -G 12 - ) \\\n",
    "         1> sim.cov.\"$mu\".bam \\\n",
    "         2> \"$mu\".runtime\n",
    "       \n",
    "    done\n",
    "    \n",
    "    mkdir D\"$d\"_bam\n",
    "    mkdir D\"$d\"_runtimes\n",
    "    mv sim.cov.\"$mu\".bam ./D\"$d\"_bam/\n",
    "    mv \"$mu\".runtime ./D\"$d\"_runtimes/\n",
    "    \n",
    "done\n",
    "\n"
   ]
  },
    {
   "cell_type": "markdown",
   "metadata": {},
   "source": [
    "Vary `-R` between `1-4`\n",
    "\n",
    " ` -r                 query input files are raw one-sequence-per-line`\n",
    "\n",
    "Default for `-R` in `---very-sensitive-local` is `3`\n"
   ]
  },
    {
   "cell_type": "code",
   "execution_count": null,
   "metadata": {},
   "outputs": [],
   "source": [
    "# Run bowtie2 align for each divergence set and clock runtimes\n",
    "module load bowtie2\n",
    "module load samtools\n",
    "\n",
    "R=($echo {1..4})\n",
    "MU=(0 30 300 1500 3000 4500 6000 7500 9000 10500 12000)\n",
    "\n",
    "for r in ${R[@]}\n",
    "do\n",
    "   for mu in ${MU[@]}\n",
    "   do\n",
    "       FQ1=fq/sim.cov.\"$mu\"_1.fq.gz\n",
    "       FQ2=fq/sim.cov.\"$mu\"_2.fq.gz\n",
    "       \n",
    "       ( time bowtie2 --D 20 -R $R -N 0 -L 20 -i S,1,0.50 \\\n",
    "         -x cov.index -1 $FQ1 -2 $FQ2 \\\n",
    "         | samtools view -b -G 12 - ) \\\n",
    "         1> sim.cov.\"$mu\".bam \\\n",
    "         2> \"$mu\".runtime\n",
    "       \n",
    "    done\n",
    "    \n",
    "    mkdir r\"$R\"_bam\n",
    "    mkdir r\"$R\"_runtimes\n",
    "    mv sim.cov.\"$mu\".bam ./D\"$R\"_bam/\n",
    "    mv \"$mu\".runtime ./D\"$R\"_runtimes/\n",
    "    \n",
    "done\n",
    "\n"
   ]
  },
  {
   "cell_type": "code",
   "execution_count": null,
   "metadata": {},
   "outputs": [],
   "source": [
    "# Print out alignment rate for each mutational load\n",
    "cd runtimes\n",
    "\n",
    "MU=(0 30 300 1500 3000 4500 6000 7500 9000 10500 12000)\n",
    "\n",
    "for mu in ${MU[@]}\n",
    "do\n",
    "  echo $mu \\\n",
    "  $(sed -n '15p' \"$mu\".runtime | cut -f1 -d' ' -) \\\n",
    "  $(sed -n '17p' \"$mu\".runtime | cut -f2 -) \\\n",
    "  $(sed -n '18p' \"$mu\".runtime | cut -f2 -) \\\n",
    "  $(sed -n '19p' \"$mu\".runtime | cut -f2 -)\n",
    "done"
   ]
  },
  {
   "cell_type": "markdown",
   "metadata": {},
   "source": [
   "## Results & Discussion\n"
   ]
  }
 ],
 "metadata": {
  "kernelspec": {
   "display_name": "Python 3",
   "language": "python",
   "name": "python3"
  },
  "language_info": {
   "codemirror_mode": {
    "name": "ipython",
    "version": 3
   },
   "file_extension": ".py",
   "mimetype": "text/x-python",
   "name": "python",
   "nbconvert_exporter": "python",
   "pygments_lexer": "ipython3",
   "version": "3.7.6"
  }
 },
 "nbformat": 4,
 "nbformat_minor": 1
}
