{
 "cells": [
  {
   "cell_type": "markdown",
   "metadata": {},
   "source": [
    "# CoV Divergent Read Simulations\n",
    "```\n",
    "Lead     : ababaian\n",
    "Issue    : na\n",
    "start    : 2020 04 11\n",
    "complete : YYYY MM DD\n",
    "files    : ~/serratus/notebook/200411/\n",
    "```\n",
    "\n",
    "## Introduction\n",
    "< Describe the problem in a few sentences >\n",
    "\n",
    "### Objectives\n",
    "< What are the objectives / deliverable items from this experiment >"
   ]
  },
  {
   "cell_type": "markdown",
   "metadata": {},
   "source": [
    "## Materials and Methods\n",
    "\n"
   ]
  },
  {
   "cell_type": "code",
   "execution_count": null,
   "metadata": {},
   "outputs": [],
   "source": [
    "# EC2 Instance Commands:\n",
    "# Build/Run `serratus-align`container for indexing\n",
    "sudo yum install -y docker\n",
    "sudo yum install -y git\n",
    "sudo yum install -y less\n",
    "sudo service docker start\n",
    "\n",
    "git clone https://github.com/ababaian/serratus.git; cd serratus\n",
    "sudo docker build -t serratus-base:0 -t serratus-base:latest -f docker/Dockerfile .\n",
    "sudo docker build -t serratus-align:0 -t serratus-align:latest -f docker/serratus-align/Dockerfile .\n",
    "\n",
    "sudo docker run --rm --entrypoint /bin/bash -it serratus-align:0\n"
   ]
  },
  {
   "cell_type": "code",
   "execution_count": null,
   "metadata": {},
   "outputs": [],
   "source": [
    "# local ART install\n",
    "wget https://www.niehs.nih.gov/research/resources/assets/docs/artsrcmountrainier2016.06.05linux.tgz\n",
    "tar -xvf artsrcmountrainier2016.06.05linux.tgz\n",
    "cd art_src_MountRainier_Linux/\n",
    "\n",
    "sudo yum install gcc-c++ gsl gsl-devel\n",
    "./configure && make && make install\n",
    "cp art_illumina /usr/bin/\n",
    "cd ..\n",
    "\n",
    "# EMBOSS Tools\n",
    "wget ftp://emboss.open-bio.org/pub/EMBOSS/EMBOSS-6.6.0.tar.gz\n",
    "tar -xvf EMBOSS-6.6.0.tar.gz\n",
    "cd EMBOSS-6.6.0/\n",
    "./configure --without-x && make && make install\n",
    "cp emboss/msbar /usr/bin/\n",
    "\n",
    "# Wuhan SARS-CoV-2 genome\n",
    "wget ftp://hgdownload.soe.ucsc.edu/goldenPath/wuhCor1/chromosomes/NC_045512v2.fa.gz\n",
    "gzip -d NC_045512v2.fa.gz\n",
    "samtools faidx NC_045512v2.fa"
   ]
  },
  {
   "cell_type": "code",
   "execution_count": null,
   "metadata": {},
   "outputs": [],
   "source": [
    "mkdir sim; cd sim\n",
    "\n",
    "cp ../NC_045512v2.fa index.fa\n",
    "\n",
    "# Mutation rate \n",
    "# 0, 0.001, 0.01, 0.05, 0.1, 0.15, 0.2, 0.25, 0.3, 0.35, 0.4\n",
    "# for a 30kb genome\n",
    "MU=(0 30 300 1500 3000 4500 6000 7500 9000 10500 12000)\n",
    "\n",
    "for mu in ${MU[@]}\n",
    "do\n",
    "  # Mutate input sequence at mu-rate\n",
    "  msbar -point 4 -block 0 -codon 0 \\\n",
    "    -count $mu \\\n",
    "    -sequence index.fa \\\n",
    "    -outseq sim.cov.\"$mu\".fa\n",
    "  \n",
    "  # Change header with mutation rate \n",
    "    sed -i \"s/>.*/>mu_$mu/g\" sim.cov.\"$mu\".fa\n",
    "    \n",
    "  # Simulate reads based on each mutation rate\n",
    "  art_illumina \\\n",
    "    --seqSys HS20 --paired \\\n",
    "    --in sim.cov.\"$mu\".fa \\\n",
    "    --len 100 --mflen 300 --sdev 1 \\\n",
    "    --fcov 50 \\\n",
    "    --rndSeed 666 \\\n",
    "    --out sim.cov.\"$mu\"_ --noALN \\\n",
    "    > log.tmp\n",
    "    \n",
    "  rm log.tmp\n",
    "done\n"
   ]
  },
  {
   "cell_type": "code",
   "execution_count": null,
   "metadata": {},
   "outputs": [],
   "source": [
    "# Organize and upload \n",
    "mkdir fa; mv *.fa fa/; cd fa; gzip *; cd ..\n",
    "mkdir fq; mv *.fq fq/; cd fq; gzip *; cd ..\n",
    "\n",
    "# ../200411/\n",
    "aws s3 cp --recursive fa s3://serratus-public/notebook/200411/fa/\n",
    "aws s3 cp --recursive fa s3://serratus-public/notebook/200411/fa/\n"
   ]
  },
  {
   "cell_type": "markdown",
   "metadata": {},
   "source": [
    "\n",
    "## Results & Discussion\n"
   ]
  }
 ],
 "metadata": {
  "kernelspec": {
   "display_name": "Bash",
   "language": "bash",
   "name": "bash"
  },
  "language_info": {
   "codemirror_mode": "shell",
   "file_extension": ".sh",
   "mimetype": "text/x-sh",
   "name": "bash"
  }
 },
 "nbformat": 4,
 "nbformat_minor": 1
}
