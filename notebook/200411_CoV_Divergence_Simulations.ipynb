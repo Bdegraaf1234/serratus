{
 "cells": [
  {
   "cell_type": "markdown",
   "metadata": {},
   "source": [
    "# CoV Divergent Read Simulations\n",
    "```\n",
    "Lead     : ababaian\n",
    "Issue    : na\n",
    "start    : 2020 04 11\n",
    "complete : 2020 04 12\n",
    "files    : ~/serratus/notebook/200411/\n",
    "```\n",
    "\n",
    "## Introduction\n",
    "The key objective of serratus is to discover new species of CoV, not just find more libraires with known CoV. This experiment will use SARS-CoV-2 refernce sequence, mutate the sequence with random substitutions at different rates (0.1% - 40%) to create 'divergent genomes'. Illumina reads for each divergent genome will then be simulated.\n",
    "\n",
    "These simulated divergent reads are then mapped back to the index sequence \n",
    "\n",
    "### Objectives\n",
    "- Create simulated SARS-CoV-2 Divergent sequences and simulated Illumina reads based on those sequences\n",
    "- Benchmark sensivity vs. divergence for standard bowtie2 (--very-senstivie-local)"
   ]
  },
  {
   "cell_type": "markdown",
   "metadata": {},
   "source": [
    "## Materials and Methods\n",
    "\n"
   ]
  },
  {
   "cell_type": "code",
   "execution_count": null,
   "metadata": {},
   "outputs": [],
   "source": [
    "# EC2 Instance Commands:\n",
    "# Build/Run `serratus-align`container for indexing\n",
    "sudo yum install -y docker\n",
    "sudo yum install -y git\n",
    "sudo yum install -y less\n",
    "sudo service docker start\n",
    "\n",
    "git clone https://github.com/ababaian/serratus.git; cd serratus\n",
    "sudo docker build -t serratus-base:0 -t serratus-base:latest -f docker/Dockerfile .\n",
    "sudo docker build -t serratus-align:0 -t serratus-align:latest -f docker/serratus-align/Dockerfile .\n",
    "\n",
    "sudo docker run --rm --entrypoint /bin/bash -it serratus-align:0\n"
   ]
  },
  {
   "cell_type": "code",
   "execution_count": null,
   "metadata": {},
   "outputs": [],
   "source": [
    "# local ART install\n",
    "wget https://www.niehs.nih.gov/research/resources/assets/docs/artsrcmountrainier2016.06.05linux.tgz\n",
    "tar -xvf artsrcmountrainier2016.06.05linux.tgz\n",
    "cd art_src_MountRainier_Linux/\n",
    "\n",
    "sudo yum install gcc-c++ gsl gsl-devel\n",
    "./configure && make && make install\n",
    "cp art_illumina /usr/bin/\n",
    "cd ..\n",
    "\n",
    "# EMBOSS Tools\n",
    "wget ftp://emboss.open-bio.org/pub/EMBOSS/EMBOSS-6.6.0.tar.gz\n",
    "tar -xvf EMBOSS-6.6.0.tar.gz\n",
    "cd EMBOSS-6.6.0/\n",
    "./configure --without-x && make && make install\n",
    "cp emboss/msbar /usr/bin/\n",
    "\n",
    "# Wuhan SARS-CoV-2 genome\n",
    "wget ftp://hgdownload.soe.ucsc.edu/goldenPath/wuhCor1/chromosomes/NC_045512v2.fa.gz\n",
    "gzip -d NC_045512v2.fa.gz\n",
    "samtools faidx NC_045512v2.fa"
   ]
  },
  {
   "cell_type": "code",
   "execution_count": null,
   "metadata": {},
   "outputs": [],
   "source": [
    "mkdir sim; cd sim\n",
    "\n",
    "cp ../NC_045512v2.fa index.fa\n",
    "\n",
    "# Mutation rate \n",
    "# 0, 0.001, 0.01, 0.05, 0.1, 0.15, 0.2, 0.25, 0.3, 0.35, 0.4\n",
    "# for a 30kb genome\n",
    "MU=(0 30 300 1500 3000 4500 6000 7500 9000 10500 12000)\n",
    "\n",
    "for mu in ${MU[@]}\n",
    "do\n",
    "  # Mutate input sequence at mu-rate\n",
    "  msbar -point 4 -block 0 -codon 0 \\\n",
    "    -count $mu \\\n",
    "    -sequence index.fa \\\n",
    "    -outseq sim.cov.\"$mu\".fa\n",
    "  \n",
    "  # Change header with mutation rate \n",
    "    sed -i \"s/>.*/>mu_$mu/g\" sim.cov.\"$mu\".fa\n",
    "    \n",
    "  # Simulate reads based on each mutation rate\n",
    "  art_illumina \\\n",
    "    --seqSys HS20 --paired \\\n",
    "    --in sim.cov.\"$mu\".fa \\\n",
    "    --len 100 --mflen 300 --sdev 1 \\\n",
    "    --fcov 50 \\\n",
    "    --rndSeed 666 \\\n",
    "    --out sim.cov.\"$mu\"_ --noALN \\\n",
    "    > log.tmp\n",
    "    \n",
    "  rm log.tmp\n",
    "done\n"
   ]
  },
  {
   "cell_type": "code",
   "execution_count": null,
   "metadata": {},
   "outputs": [],
   "source": [
    "# Organize and upload \n",
    "mkdir fa; mv *.fa fa/; cd fa; gzip *; cd ..\n",
    "mkdir fq; mv *.fq fq/; cd fq; gzip *; cd ..\n",
    "\n",
    "# ../200411/\n",
    "aws s3 cp --recursive fa s3://serratus-public/notebook/200411/fa/\n",
    "aws s3 cp --recursive fa s3://serratus-public/notebook/200411/fa/\n"
   ]
  },
  {
   "cell_type": "code",
   "execution_count": null,
   "metadata": {},
   "outputs": [],
   "source": [
    "# On C4.large EC2 Instance\n",
    "mkdir ~/seq; cd ~/seq\n",
    "aws s3 sync s3://serratus-public/notebook/200411/ ./\n",
    "\n",
    "# Index unmutated sequence\n",
    "gzip -dc fa/index.fa.gz > ./cov.index.fa \n",
    "bowtie2-build cov.index.fa cov.index"
   ]
  },
  {
   "cell_type": "code",
   "execution_count": null,
   "metadata": {},
   "outputs": [],
   "source": [
    "# Run bowtie2 align for each divergence set\n",
    "mkdir -p bam\n",
    "mkdir -p runtimes\n",
    "\n",
    "MU=(0 30 300 1500 3000 4500 6000 7500 9000 10500 12000)\n",
    "\n",
    "for mu in ${MU[@]}\n",
    "do\n",
    "    FQ1=fq/sim.cov.\"$mu\"_1.fq.gz\n",
    "    FQ2=fq/sim.cov.\"$mu\"_2.fq.gz\n",
    "    \n",
    "    ( time bowtie2 --very-sensitive-local \\\n",
    "      -x cov.index -1 $FQ1 -2 $FQ2 } \\\n",
    "      | samtools view -b -G 12 - ) \\\n",
    "      1> sim.cov.\"$mu\".bam \\\n",
    "      2> \"$mu\".runtime\n",
    "    \n",
    "    mv sim.cov.\"$mu\".bam ./bam/\n",
    "    mv \"$mu\".runtime ./runtimes/\n",
    "    \n",
    "done\n",
    "\n"
   ]
  },
  {
   "cell_type": "code",
   "execution_count": null,
   "metadata": {},
   "outputs": [],
   "source": [
    "# Print out alignment rate for each mutational load\n",
    "cd runtimes\n",
    "\n",
    "MU=(0 30 300 1500 3000 4500 6000 7500 9000 10500 12000)\n",
    "\n",
    "for mu in ${MU[@]}\n",
    "do\n",
    "  echo $mu \\\n",
    "  $(sed -n '15p' \"$mu\".runtime | cut -f1 -d' ' -) \\\n",
    "  $(sed -n '17p' \"$mu\".runtime | cut -f2 -) \\\n",
    "  $(sed -n '18p' \"$mu\".runtime | cut -f2 -) \\\n",
    "  $(sed -n '19p' \"$mu\".runtime | cut -f2 -)\n",
    "done"
   ]
  },
  {
   "cell_type": "markdown",
   "metadata": {},
   "source": [
    "```\n",
    "0 100.00% 0m2.644s 0m2.852s 0m0.043s\n",
    "30 100.00% 0m2.682s 0m2.908s 0m0.025s\n",
    "300 99.99% 0m2.986s 0m3.197s 0m0.051s\n",
    "1500 98.03% 0m3.148s 0m3.373s 0m0.044s\n",
    "3000 79.36% 0m2.142s 0m2.340s 0m0.023s\n",
    "4500 54.05% 0m1.224s 0m1.360s 0m0.027s\n",
    "6000 34.64% 0m0.739s 0m0.840s 0m0.008s\n",
    "7500 20.37% 0m0.479s 0m0.536s 0m0.014s\n",
    "9000 9.71% 0m0.316s 0m0.321s 0m0.028s\n",
    "10500 3.63% 0m0.236s 0m0.237s 0m0.019s\n",
    "12000 2.05% 0m0.216s 0m0.213s 0m0.016s\n",
    "```"
   ]
  },
  {
   "cell_type": "code",
   "execution_count": null,
   "metadata": {},
   "outputs": [],
   "source": [
    "aws s3 sync bam s3://serratus-public/notebook/200411/bam/\n",
    "aws s3 sync runtimes s3://serratus-public/notebook/200411/runtimes/"
   ]
  },
  {
   "cell_type": "markdown",
   "metadata": {},
   "source": [
    "\n",
    "## Results & Discussion\n",
    "\n",
    "![Divergence vs. Alignment Rate](200411/div_v_align_plot1.png)\n",
    "\n",
    "The closest known species related to SARS-CoV-2 is 96% similar, which means we would pick up ~98% of reads from that species.\n",
    "\n",
    "Species level differences are 90% divergence which would give us ~80% sensitivity to pick up reads. Even at 70% similarity (0.3 divergence) we'd pick up ~10% of reads.\n",
    "\n",
    "In the + control library with active infection we had 2M reads map to cov1r; which means if that virus was 70% similar, we can expect 100K reads to still map. The FP rate off the transcriptome was 10-100 reads (0.01%). Looks promising so far."
   ]
  }
 ],
 "metadata": {
  "kernelspec": {
   "display_name": "Bash",
   "language": "bash",
   "name": "bash"
  },
  "language_info": {
   "codemirror_mode": "shell",
   "file_extension": ".sh",
   "mimetype": "text/x-sh",
   "name": "bash"
  }
 },
 "nbformat": 4,
 "nbformat_minor": 1
}
